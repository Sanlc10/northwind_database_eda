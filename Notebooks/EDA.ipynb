{
 "cells": [
  {
   "cell_type": "markdown",
   "id": "7c2e59f3",
   "metadata": {},
   "source": [
    "# Northwind employee performance analytics 🧑‍💼📈"
   ]
  },
  {
   "cell_type": "code",
   "execution_count": null,
   "id": "d9e46e7e",
   "metadata": {},
   "outputs": [],
   "source": [
    "#import necessary libraries\n",
    "import pandas as pd\n",
    "import matplotlib.pyplot as plt\n",
    "import seaborn as sns\n",
    "import numpy as np\n",
    "import scipy.stats as st"
   ]
  },
  {
   "cell_type": "code",
   "execution_count": 7,
   "id": "db3c475e",
   "metadata": {},
   "outputs": [],
   "source": [
    "# Load the dataset\n",
    "customers = pd.read_excel('../Data_Cleaning/customers.xlsx')\n",
    "employees = pd.read_excel('../Data_Cleaning/employees.xlsx')\n",
    "order_details = pd.read_excel('../Data_Cleaning/order_details.xlsx')\n",
    "orders = pd.read_excel('../Data_Cleaning/orders.xlsx')\n",
    "employee_territories = pd.read_excel('../Data_Cleaning/employee_territories.xlsx')\n",
    "territories = pd.read_excel('../Data_Cleaning/territories.xlsx')"
   ]
  },
  {
   "cell_type": "code",
   "execution_count": null,
   "id": "b74ad18c",
   "metadata": {},
   "outputs": [],
   "source": []
  }
 ],
 "metadata": {
  "kernelspec": {
   "display_name": "base",
   "language": "python",
   "name": "python3"
  },
  "language_info": {
   "codemirror_mode": {
    "name": "ipython",
    "version": 3
   },
   "file_extension": ".py",
   "mimetype": "text/x-python",
   "name": "python",
   "nbconvert_exporter": "python",
   "pygments_lexer": "ipython3",
   "version": "3.12.7"
  }
 },
 "nbformat": 4,
 "nbformat_minor": 5
}
